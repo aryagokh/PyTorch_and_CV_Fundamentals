{
 "cells": [
  {
   "cell_type": "markdown",
   "id": "c8c74bdc",
   "metadata": {
    "papermill": {
     "duration": 0.009045,
     "end_time": "2025-01-05T09:31:31.858972",
     "exception": false,
     "start_time": "2025-01-05T09:31:31.849927",
     "status": "completed"
    },
    "tags": []
   },
   "source": [
    "# Imports"
   ]
  },
  {
   "cell_type": "code",
   "execution_count": 1,
   "id": "cbdbfe5c",
   "metadata": {
    "_cell_guid": "b1076dfc-b9ad-4769-8c92-a6c4dae69d19",
    "_uuid": "8f2839f25d086af736a60e9eeb907d3b93b6e0e5",
    "execution": {
     "iopub.execute_input": "2025-01-05T09:31:31.876628Z",
     "iopub.status.busy": "2025-01-05T09:31:31.876272Z",
     "iopub.status.idle": "2025-01-05T09:31:33.665455Z",
     "shell.execute_reply": "2025-01-05T09:31:33.664588Z"
    },
    "papermill": {
     "duration": 1.799765,
     "end_time": "2025-01-05T09:31:33.667103",
     "exception": false,
     "start_time": "2025-01-05T09:31:31.867338",
     "status": "completed"
    },
    "tags": []
   },
   "outputs": [],
   "source": [
    "import pandas as pd\n",
    "import numpy as np\n",
    "import matplotlib.pyplot as plt\n",
    "import seaborn as sns"
   ]
  },
  {
   "cell_type": "code",
   "execution_count": 2,
   "id": "c939e15d",
   "metadata": {
    "execution": {
     "iopub.execute_input": "2025-01-05T09:31:33.684646Z",
     "iopub.status.busy": "2025-01-05T09:31:33.684300Z",
     "iopub.status.idle": "2025-01-05T09:31:36.567351Z",
     "shell.execute_reply": "2025-01-05T09:31:36.566323Z"
    },
    "papermill": {
     "duration": 2.893437,
     "end_time": "2025-01-05T09:31:36.569121",
     "exception": false,
     "start_time": "2025-01-05T09:31:33.675684",
     "status": "completed"
    },
    "tags": []
   },
   "outputs": [
    {
     "name": "stdout",
     "output_type": "stream",
     "text": [
      "2.4.1+cu121\n"
     ]
    }
   ],
   "source": [
    "import torch\n",
    "from torch import nn, optim # nn contains all the PyTorch's building blocks for neural networks\n",
    "\n",
    "print(torch.__version__)"
   ]
  },
  {
   "cell_type": "markdown",
   "id": "f43f5bb3",
   "metadata": {
    "papermill": {
     "duration": 0.008066,
     "end_time": "2025-01-05T09:31:36.585871",
     "exception": false,
     "start_time": "2025-01-05T09:31:36.577805",
     "status": "completed"
    },
    "tags": []
   },
   "source": [
    "# Data (preparing and loading) - using Linear Regression"
   ]
  },
  {
   "cell_type": "markdown",
   "id": "04d4892f",
   "metadata": {
    "papermill": {
     "duration": 0.007973,
     "end_time": "2025-01-05T09:31:36.602634",
     "exception": false,
     "start_time": "2025-01-05T09:31:36.594661",
     "status": "completed"
    },
    "tags": []
   },
   "source": [
    "#### Machine learning is a game of 2 parts \n",
    "1. Get the data into numerical representation.\n",
    "2. Build a model to learn patterns in that numerical representation."
   ]
  },
  {
   "cell_type": "code",
   "execution_count": 3,
   "id": "6ca5960d",
   "metadata": {
    "execution": {
     "iopub.execute_input": "2025-01-05T09:31:36.620143Z",
     "iopub.status.busy": "2025-01-05T09:31:36.619724Z",
     "iopub.status.idle": "2025-01-05T09:31:36.709807Z",
     "shell.execute_reply": "2025-01-05T09:31:36.709058Z"
    },
    "papermill": {
     "duration": 0.100181,
     "end_time": "2025-01-05T09:31:36.711011",
     "exception": false,
     "start_time": "2025-01-05T09:31:36.610830",
     "status": "completed"
    },
    "tags": []
   },
   "outputs": [
    {
     "data": {
      "text/plain": [
       "(tensor([[0.0000],\n",
       "         [0.0200],\n",
       "         [0.0400],\n",
       "         [0.0600],\n",
       "         [0.0800],\n",
       "         [0.1000],\n",
       "         [0.1200],\n",
       "         [0.1400],\n",
       "         [0.1600],\n",
       "         [0.1800]]),\n",
       " tensor([[0.3000],\n",
       "         [0.3140],\n",
       "         [0.3280],\n",
       "         [0.3420],\n",
       "         [0.3560],\n",
       "         [0.3700],\n",
       "         [0.3840],\n",
       "         [0.3980],\n",
       "         [0.4120],\n",
       "         [0.4260]]),\n",
       " 50,\n",
       " 50,\n",
       " torch.Size([50, 1]),\n",
       " torch.Size([50, 1]))"
      ]
     },
     "execution_count": 3,
     "metadata": {},
     "output_type": "execute_result"
    }
   ],
   "source": [
    "weight = 0.7\n",
    "bias = 0.3\n",
    "\n",
    "start = 0\n",
    "end = 1\n",
    "step = 0.02\n",
    "\n",
    "X = torch.arange(start, end, step).unsqueeze(dim=1)\n",
    "y = weight*X + bias\n",
    "\n",
    "X[:10], y[:10], len(X), len(y), X.shape, y.shape"
   ]
  },
  {
   "cell_type": "markdown",
   "id": "58a74fcd",
   "metadata": {
    "papermill": {
     "duration": 0.008221,
     "end_time": "2025-01-05T09:31:36.727607",
     "exception": false,
     "start_time": "2025-01-05T09:31:36.719386",
     "status": "completed"
    },
    "tags": []
   },
   "source": [
    "# Creating training and test sets"
   ]
  },
  {
   "cell_type": "code",
   "execution_count": 4,
   "id": "59cdfa1d",
   "metadata": {
    "execution": {
     "iopub.execute_input": "2025-01-05T09:31:36.744895Z",
     "iopub.status.busy": "2025-01-05T09:31:36.744672Z",
     "iopub.status.idle": "2025-01-05T09:31:36.749787Z",
     "shell.execute_reply": "2025-01-05T09:31:36.748985Z"
    },
    "papermill": {
     "duration": 0.015257,
     "end_time": "2025-01-05T09:31:36.751130",
     "exception": false,
     "start_time": "2025-01-05T09:31:36.735873",
     "status": "completed"
    },
    "tags": []
   },
   "outputs": [
    {
     "data": {
      "text/plain": [
       "(40, 40, 10, 10)"
      ]
     },
     "execution_count": 4,
     "metadata": {},
     "output_type": "execute_result"
    }
   ],
   "source": [
    "train_split = int(0.8 * len(X))\n",
    "\n",
    "X_train, y_train = X[:train_split], y[:train_split]\n",
    "X_test, y_test = X[train_split:], y[train_split:]\n",
    "\n",
    "len(X_train), len(y_train), len(X_test), len(y_test)"
   ]
  },
  {
   "cell_type": "code",
   "execution_count": 5,
   "id": "8d907e65",
   "metadata": {
    "execution": {
     "iopub.execute_input": "2025-01-05T09:31:36.768568Z",
     "iopub.status.busy": "2025-01-05T09:31:36.768320Z",
     "iopub.status.idle": "2025-01-05T09:31:37.195952Z",
     "shell.execute_reply": "2025-01-05T09:31:37.194819Z"
    },
    "papermill": {
     "duration": 0.438363,
     "end_time": "2025-01-05T09:31:37.197860",
     "exception": false,
     "start_time": "2025-01-05T09:31:36.759497",
     "status": "completed"
    },
    "tags": []
   },
   "outputs": [
    {
     "data": {
      "image/png": "[encoded data removed]",
      "text/plain": [
       "<Figure size 640x480 with 1 Axes>"
      ]
     },
     "metadata": {},
     "output_type": "display_data"
    }
   ],
   "source": [
    "plt.scatter(X_train, y_train, c='b', label='Training Data', marker='.')\n",
    "plt.scatter(X_test, y_test, c='g', label='Test Data', marker='.')\n",
    "plt.legend(loc='best');"
   ]
  },
  {
   "cell_type": "markdown",
   "id": "c00fc1b1",
   "metadata": {
    "papermill": {
     "duration": 0.015831,
     "end_time": "2025-01-05T09:31:37.225454",
     "exception": false,
     "start_time": "2025-01-05T09:31:37.209623",
     "status": "completed"
    },
    "tags": []
   },
   "source": [
    "# Building a model"
   ]
  },
  {
   "cell_type": "code",
   "execution_count": 6,
   "id": "a1b9d8e7",
   "metadata": {
    "execution": {
     "iopub.execute_input": "2025-01-05T09:31:37.252925Z",
     "iopub.status.busy": "2025-01-05T09:31:37.252479Z",
     "iopub.status.idle": "2025-01-05T09:31:37.258565Z",
     "shell.execute_reply": "2025-01-05T09:31:37.257726Z"
    },
    "papermill": {
     "duration": 0.020582,
     "end_time": "2025-01-05T09:31:37.259864",
     "exception": false,
     "start_time": "2025-01-05T09:31:37.239282",
     "status": "completed"
    },
    "tags": []
   },
   "outputs": [],
   "source": [
    "class LinearRegressionModel(nn.Module):\n",
    "    def __init__(self):\n",
    "        super().__init__()\n",
    "        self.weights = nn.Parameter(torch.randn(1, \n",
    "                                                requires_grad=True,\n",
    "                                                dtype=torch.float))\n",
    "        self.bias = nn.Parameter(torch.randn(1,\n",
    "                                             requires_grad=True,\n",
    "                                             dtype=torch.float))\n",
    "\n",
    "    def forward(self, x:torch.Tensor):\n",
    "        return self.weights*x + self.bias"
   ]
  },
  {
   "cell_type": "code",
   "execution_count": 7,
   "id": "1086ae74",
   "metadata": {
    "execution": {
     "iopub.execute_input": "2025-01-05T09:31:37.278042Z",
     "iopub.status.busy": "2025-01-05T09:31:37.277834Z",
     "iopub.status.idle": "2025-01-05T09:31:37.290346Z",
     "shell.execute_reply": "2025-01-05T09:31:37.289737Z"
    },
    "papermill": {
     "duration": 0.022913,
     "end_time": "2025-01-05T09:31:37.291582",
     "exception": false,
     "start_time": "2025-01-05T09:31:37.268669",
     "status": "completed"
    },
    "tags": []
   },
   "outputs": [
    {
     "data": {
      "text/plain": [
       "[Parameter containing:\n",
       " tensor([0.3367], requires_grad=True),\n",
       " Parameter containing:\n",
       " tensor([0.1288], requires_grad=True)]"
      ]
     },
     "execution_count": 7,
     "metadata": {},
     "output_type": "execute_result"
    }
   ],
   "source": [
    "# Creating a random seed\n",
    "torch.manual_seed(42)\n",
    "\n",
    "# Instance of the model\n",
    "model_0 = LinearRegressionModel()\n",
    "\n",
    "# Params\n",
    "list(model_0.parameters())"
   ]
  },
  {
   "cell_type": "code",
   "execution_count": 8,
   "id": "d5c16356",
   "metadata": {
    "execution": {
     "iopub.execute_input": "2025-01-05T09:31:37.309737Z",
     "iopub.status.busy": "2025-01-05T09:31:37.309508Z",
     "iopub.status.idle": "2025-01-05T09:31:37.315492Z",
     "shell.execute_reply": "2025-01-05T09:31:37.314472Z"
    },
    "papermill": {
     "duration": 0.016765,
     "end_time": "2025-01-05T09:31:37.317089",
     "exception": false,
     "start_time": "2025-01-05T09:31:37.300324",
     "status": "completed"
    },
    "tags": []
   },
   "outputs": [
    {
     "data": {
      "text/plain": [
       "OrderedDict([('weights', tensor([0.3367])), ('bias', tensor([0.1288]))])"
      ]
     },
     "execution_count": 8,
     "metadata": {},
     "output_type": "execute_result"
    }
   ],
   "source": [
    "model_0.state_dict()"
   ]
  },
  {
   "cell_type": "code",
   "execution_count": 9,
   "id": "7dd598b1",
   "metadata": {
    "execution": {
     "iopub.execute_input": "2025-01-05T09:31:37.338534Z",
     "iopub.status.busy": "2025-01-05T09:31:37.338095Z",
     "iopub.status.idle": "2025-01-05T09:31:37.346716Z",
     "shell.execute_reply": "2025-01-05T09:31:37.345812Z"
    },
    "papermill": {
     "duration": 0.020241,
     "end_time": "2025-01-05T09:31:37.347913",
     "exception": false,
     "start_time": "2025-01-05T09:31:37.327672",
     "status": "completed"
    },
    "tags": []
   },
   "outputs": [
    {
     "data": {
      "text/plain": [
       "tensor([[0.3982],\n",
       "        [0.4049],\n",
       "        [0.4116],\n",
       "        [0.4184],\n",
       "        [0.4251],\n",
       "        [0.4318],\n",
       "        [0.4386],\n",
       "        [0.4453],\n",
       "        [0.4520],\n",
       "        [0.4588]])"
      ]
     },
     "execution_count": 9,
     "metadata": {},
     "output_type": "execute_result"
    }
   ],
   "source": [
    "# Predictions on data with random weights and biases\n",
    "with torch.inference_mode():\n",
    "    y_preds = model_0(X_test)\n",
    "# or \n",
    "with torch.no_grad():\n",
    "    y_preds = model_0(X_test)\n",
    "    \n",
    "y_preds"
   ]
  },
  {
   "cell_type": "markdown",
   "id": "14f3f203",
   "metadata": {
    "execution": {
     "iopub.execute_input": "2025-01-04T18:46:18.227486Z",
     "iopub.status.busy": "2025-01-04T18:46:18.227127Z",
     "iopub.status.idle": "2025-01-04T18:46:18.231960Z",
     "shell.execute_reply": "2025-01-04T18:46:18.230936Z",
     "shell.execute_reply.started": "2025-01-04T18:46:18.227462Z"
    },
    "papermill": {
     "duration": 0.008651,
     "end_time": "2025-01-05T09:31:37.365819",
     "exception": false,
     "start_time": "2025-01-05T09:31:37.357168",
     "status": "completed"
    },
    "tags": []
   },
   "source": [
    "# Loss Function and Optimizer"
   ]
  },
  {
   "cell_type": "code",
   "execution_count": 10,
   "id": "fd4ffb4e",
   "metadata": {
    "execution": {
     "iopub.execute_input": "2025-01-05T09:31:37.384014Z",
     "iopub.status.busy": "2025-01-05T09:31:37.383773Z",
     "iopub.status.idle": "2025-01-05T09:31:38.436216Z",
     "shell.execute_reply": "2025-01-05T09:31:38.435269Z"
    },
    "papermill": {
     "duration": 1.063025,
     "end_time": "2025-01-05T09:31:38.437547",
     "exception": false,
     "start_time": "2025-01-05T09:31:37.374522",
     "status": "completed"
    },
    "tags": []
   },
   "outputs": [
    {
     "name": "stdout",
     "output_type": "stream",
     "text": [
      "[{'params': [Parameter containing:\n",
      "tensor([0.3367], requires_grad=True), Parameter containing:\n",
      "tensor([0.1288], requires_grad=True)], 'lr': 0.01, 'momentum': 0, 'dampening': 0, 'weight_decay': 0, 'nesterov': False, 'maximize': False, 'foreach': None, 'differentiable': False, 'fused': None}]\n"
     ]
    }
   ],
   "source": [
    "loss_fn = nn.L1Loss() # MAE\n",
    "\n",
    "optimizer = optim.SGD(model_0.parameters(), lr=0.01)\n",
    "print(optimizer.param_groups)"
   ]
  },
  {
   "cell_type": "markdown",
   "id": "c0dc8e7f",
   "metadata": {
    "papermill": {
     "duration": 0.008836,
     "end_time": "2025-01-05T09:31:38.455671",
     "exception": false,
     "start_time": "2025-01-05T09:31:38.446835",
     "status": "completed"
    },
    "tags": []
   },
   "source": [
    "# Building a training and testing loop"
   ]
  },
  {
   "cell_type": "markdown",
   "id": "1beed268",
   "metadata": {
    "papermill": {
     "duration": 0.00873,
     "end_time": "2025-01-05T09:31:38.473353",
     "exception": false,
     "start_time": "2025-01-05T09:31:38.464623",
     "status": "completed"
    },
    "tags": []
   },
   "source": [
    "1. Loop through the data\n",
    "2. Forward pass\n",
    "3. Loss calculations\n",
    "4. Optimizer zero grad\n",
    "5. Backpropagation\n",
    "6. Optimizer step (Gradient Descent)"
   ]
  },
  {
   "cell_type": "code",
   "execution_count": 11,
   "id": "26c09a87",
   "metadata": {
    "execution": {
     "iopub.execute_input": "2025-01-05T09:31:38.492169Z",
     "iopub.status.busy": "2025-01-05T09:31:38.491794Z",
     "iopub.status.idle": "2025-01-05T09:31:38.617408Z",
     "shell.execute_reply": "2025-01-05T09:31:38.616273Z"
    },
    "papermill": {
     "duration": 0.13684,
     "end_time": "2025-01-05T09:31:38.619107",
     "exception": false,
     "start_time": "2025-01-05T09:31:38.482267",
     "status": "completed"
    },
    "tags": []
   },
   "outputs": [
    {
     "name": "stdout",
     "output_type": "stream",
     "text": [
      "Train 1====>0.31288138031959534\n",
      "Test 1====>0.48106518387794495\n",
      "Train 6====>0.2552763521671295\n",
      "Test 6====>0.41371020674705505\n",
      "Train 11====>0.1976713240146637\n",
      "Test 11====>0.3463551998138428\n",
      "Train 16====>0.14006635546684265\n",
      "Test 16====>0.27900025248527527\n",
      "Train 21====>0.08908725529909134\n",
      "Test 21====>0.21729660034179688\n",
      "Train 26====>0.06395438313484192\n",
      "Test 26====>0.17353470623493195\n",
      "Train 31====>0.053148526698350906\n",
      "Test 31====>0.14464017748832703\n",
      "Train 36====>0.04819351062178612\n",
      "Test 36====>0.12584610283374786\n",
      "Train 41====>0.04543796554207802\n",
      "Test 41====>0.11360953003168106\n",
      "Train 46====>0.04343796148896217\n",
      "Test 46====>0.10470950603485107\n",
      "Train 51====>0.04167863354086876\n",
      "Test 51====>0.09919948130846024\n",
      "Train 56====>0.039933640509843826\n",
      "Test 56====>0.09368947893381119\n",
      "Train 61====>0.03818932920694351\n",
      "Test 61====>0.08886633068323135\n",
      "Train 66====>0.03647511452436447\n",
      "Test 66====>0.08473004400730133\n",
      "Train 71====>0.03476089984178543\n",
      "Test 71====>0.0805937647819519\n",
      "Train 76====>0.033043231815099716\n",
      "Test 76====>0.07645749300718307\n",
      "Train 81====>0.03132382780313492\n",
      "Test 81====>0.07232122868299484\n",
      "Train 86====>0.02960442565381527\n",
      "Test 86====>0.06818496435880661\n",
      "Train 91====>0.02788739837706089\n",
      "Test 91====>0.06473556160926819\n",
      "Train 96====>0.026173178106546402\n",
      "Test 96====>0.06059930846095085\n"
     ]
    }
   ],
   "source": [
    "epochs = 100\n",
    "\n",
    "# Tracking different values\n",
    "epoch_count = []\n",
    "training_loss = []\n",
    "testing_loss = []\n",
    "\n",
    "# Loop through the data\n",
    "for epoch in range(epochs):\n",
    "    # Setting the model to training mode\n",
    "    model_0.train()  # Train mode sets all parameters that require gradients to require gradients\n",
    "    # 1. Forward Pass\n",
    "    y_pred = model_0(X_train)\n",
    "    # 2. Calculate the loss\n",
    "    train_loss = loss_fn(y_pred, y_train)\n",
    "    if epoch%5==0:\n",
    "        print(f'Train {epoch+1}====>{train_loss}')\n",
    "    # 3. Optimizer zero grad\n",
    "    optimizer.zero_grad()\n",
    "    # 4. Loss backward - Backpropagation\n",
    "    train_loss.backward()\n",
    "    # 5. Step the optimizer\n",
    "    optimizer.step()\n",
    "\n",
    "    # Evaluation\n",
    "    model_0.eval()   # Turns off gradient tracking \n",
    "    with torch.inference_mode():\n",
    "        y_preds = model_0(X_test)\n",
    "        test_loss = loss_fn(y_test, y_preds)\n",
    "    if epoch%5==0:\n",
    "        print(f'Test {epoch+1}====>{test_loss}')\n",
    "        epoch_count.append(epoch)\n",
    "        training_loss.append(train_loss)\n",
    "        testing_loss.append(test_loss)"
   ]
  },
  {
   "cell_type": "code",
   "execution_count": 12,
   "id": "49c1a6be",
   "metadata": {
    "execution": {
     "iopub.execute_input": "2025-01-05T09:31:38.638416Z",
     "iopub.status.busy": "2025-01-05T09:31:38.638166Z",
     "iopub.status.idle": "2025-01-05T09:31:38.643848Z",
     "shell.execute_reply": "2025-01-05T09:31:38.643152Z"
    },
    "papermill": {
     "duration": 0.016568,
     "end_time": "2025-01-05T09:31:38.644931",
     "exception": false,
     "start_time": "2025-01-05T09:31:38.628363",
     "status": "completed"
    },
    "tags": []
   },
   "outputs": [
    {
     "data": {
      "text/plain": [
       "OrderedDict([('weights', tensor([0.5784])), ('bias', tensor([0.3513]))])"
      ]
     },
     "execution_count": 12,
     "metadata": {},
     "output_type": "execute_result"
    }
   ],
   "source": [
    "model_0.state_dict()"
   ]
  },
  {
   "cell_type": "code",
   "execution_count": 13,
   "id": "86f4e79b",
   "metadata": {
    "execution": {
     "iopub.execute_input": "2025-01-05T09:31:38.663700Z",
     "iopub.status.busy": "2025-01-05T09:31:38.663468Z",
     "iopub.status.idle": "2025-01-05T09:31:38.667985Z",
     "shell.execute_reply": "2025-01-05T09:31:38.667289Z"
    },
    "papermill": {
     "duration": 0.015191,
     "end_time": "2025-01-05T09:31:38.669193",
     "exception": false,
     "start_time": "2025-01-05T09:31:38.654002",
     "status": "completed"
    },
    "tags": []
   },
   "outputs": [
    {
     "name": "stdout",
     "output_type": "stream",
     "text": [
      "[0.31288138 0.25527635 0.19767132 0.14006636 0.08908726 0.06395438\n",
      " 0.05314853 0.04819351 0.04543797 0.04343796 0.04167863 0.03993364\n",
      " 0.03818933 0.03647511 0.0347609  0.03304323 0.03132383 0.02960443\n",
      " 0.0278874  0.02617318]\n"
     ]
    }
   ],
   "source": [
    "numpy_array = np.array([loss.detach().numpy() for loss in training_loss])\n",
    "print(numpy_array)"
   ]
  },
  {
   "cell_type": "code",
   "execution_count": 14,
   "id": "9073c92a",
   "metadata": {
    "execution": {
     "iopub.execute_input": "2025-01-05T09:31:38.688077Z",
     "iopub.status.busy": "2025-01-05T09:31:38.687874Z",
     "iopub.status.idle": "2025-01-05T09:31:38.693252Z",
     "shell.execute_reply": "2025-01-05T09:31:38.692470Z"
    },
    "papermill": {
     "duration": 0.01612,
     "end_time": "2025-01-05T09:31:38.694398",
     "exception": false,
     "start_time": "2025-01-05T09:31:38.678278",
     "status": "completed"
    },
    "tags": []
   },
   "outputs": [
    {
     "data": {
      "text/plain": [
       "([0.31288138031959534, 0.2552763521671295, 0.1976713240146637],\n",
       " [0.48106518387794495, 0.41371020674705505, 0.3463551998138428])"
      ]
     },
     "execution_count": 14,
     "metadata": {},
     "output_type": "execute_result"
    }
   ],
   "source": [
    "trained = []\n",
    "tested = []\n",
    "for loss in training_loss:\n",
    "    # print(loss.detach().item())\n",
    "    trained.append(loss.detach().item())\n",
    "\n",
    "for loss in testing_loss:\n",
    "    tested.append(loss.detach().item())\n",
    "\n",
    "trained[:3], tested[:3]"
   ]
  },
  {
   "cell_type": "code",
   "execution_count": 15,
   "id": "3cf6de89",
   "metadata": {
    "execution": {
     "iopub.execute_input": "2025-01-05T09:31:38.713448Z",
     "iopub.status.busy": "2025-01-05T09:31:38.713167Z",
     "iopub.status.idle": "2025-01-05T09:31:38.943351Z",
     "shell.execute_reply": "2025-01-05T09:31:38.942515Z"
    },
    "papermill": {
     "duration": 0.241291,
     "end_time": "2025-01-05T09:31:38.944807",
     "exception": false,
     "start_time": "2025-01-05T09:31:38.703516",
     "status": "completed"
    },
    "tags": []
   },
   "outputs": [
    {
     "data": {
      "image/png": "[encoded data removed]",
      "text/plain": [
       "<Figure size 640x480 with 1 Axes>"
      ]
     },
     "metadata": {},
     "output_type": "display_data"
    }
   ],
   "source": [
    "plt.plot(epoch_count, trained, label='Training Loss', marker='o')\n",
    "plt.plot(epoch_count, tested, label='Testing Loss', marker='o')\n",
    "plt.legend(loc='best');"
   ]
  },
  {
   "cell_type": "markdown",
   "id": "13cb2303",
   "metadata": {
    "papermill": {
     "duration": 0.009588,
     "end_time": "2025-01-05T09:31:38.964374",
     "exception": false,
     "start_time": "2025-01-05T09:31:38.954786",
     "status": "completed"
    },
    "tags": []
   },
   "source": [
    "# Saving a model in PyTorch"
   ]
  },
  {
   "cell_type": "markdown",
   "id": "f81618a9",
   "metadata": {
    "papermill": {
     "duration": 0.009467,
     "end_time": "2025-01-05T09:31:38.983491",
     "exception": false,
     "start_time": "2025-01-05T09:31:38.974024",
     "status": "completed"
    },
    "tags": []
   },
   "source": [
    "### There are three main methods to know about saving and loading models in PyTorch.\n",
    "1.`torch.save()` - Saves PyTorch object in pickle format\n",
    "\n",
    "2.`torch.load()` - Loads a saved PyTorch object\n",
    "\n",
    "3.`torch.nn.Module.load_state_dict()` - Loads a model's saved state dictionary. "
   ]
  },
  {
   "cell_type": "markdown",
   "id": "ec8eca4f",
   "metadata": {
    "papermill": {
     "duration": 0.009446,
     "end_time": "2025-01-05T09:31:39.002608",
     "exception": false,
     "start_time": "2025-01-05T09:31:38.993162",
     "status": "completed"
    },
    "tags": []
   },
   "source": [
    "For HuggingFace Transformers -\n",
    "1. Saving a model - `model.save_pretrained(\"path/to/model\")`\n",
    "\n",
    "2. Loading a model - `AutoModelForSequenceClassification.from_pretrained(\"path/to/model\")`\n",
    "                     (Here it was used, so....)"
   ]
  },
  {
   "cell_type": "code",
   "execution_count": 16,
   "id": "92980caf",
   "metadata": {
    "execution": {
     "iopub.execute_input": "2025-01-05T09:31:39.022944Z",
     "iopub.status.busy": "2025-01-05T09:31:39.022639Z",
     "iopub.status.idle": "2025-01-05T09:31:39.028785Z",
     "shell.execute_reply": "2025-01-05T09:31:39.027957Z"
    },
    "papermill": {
     "duration": 0.017816,
     "end_time": "2025-01-05T09:31:39.030003",
     "exception": false,
     "start_time": "2025-01-05T09:31:39.012187",
     "status": "completed"
    },
    "tags": []
   },
   "outputs": [
    {
     "data": {
      "text/plain": [
       "OrderedDict([('weights', tensor([0.5784])), ('bias', tensor([0.3513]))])"
      ]
     },
     "execution_count": 16,
     "metadata": {},
     "output_type": "execute_result"
    }
   ],
   "source": [
    "model_0.state_dict()"
   ]
  },
  {
   "cell_type": "code",
   "execution_count": 17,
   "id": "007c4e4a",
   "metadata": {
    "execution": {
     "iopub.execute_input": "2025-01-05T09:31:39.051066Z",
     "iopub.status.busy": "2025-01-05T09:31:39.050840Z",
     "iopub.status.idle": "2025-01-05T09:31:39.055458Z",
     "shell.execute_reply": "2025-01-05T09:31:39.054820Z"
    },
    "papermill": {
     "duration": 0.01596,
     "end_time": "2025-01-05T09:31:39.056651",
     "exception": false,
     "start_time": "2025-01-05T09:31:39.040691",
     "status": "completed"
    },
    "tags": []
   },
   "outputs": [
    {
     "data": {
      "text/plain": [
       "{'state': {},\n",
       " 'param_groups': [{'lr': 0.01,\n",
       "   'momentum': 0,\n",
       "   'dampening': 0,\n",
       "   'weight_decay': 0,\n",
       "   'nesterov': False,\n",
       "   'maximize': False,\n",
       "   'foreach': None,\n",
       "   'differentiable': False,\n",
       "   'fused': None,\n",
       "   'params': [0, 1]}]}"
      ]
     },
     "execution_count": 17,
     "metadata": {},
     "output_type": "execute_result"
    }
   ],
   "source": [
    "optimizer.state_dict()"
   ]
  },
  {
   "cell_type": "code",
   "execution_count": 18,
   "id": "469db87e",
   "metadata": {
    "execution": {
     "iopub.execute_input": "2025-01-05T09:31:39.077907Z",
     "iopub.status.busy": "2025-01-05T09:31:39.077691Z",
     "iopub.status.idle": "2025-01-05T09:31:39.081799Z",
     "shell.execute_reply": "2025-01-05T09:31:39.081020Z"
    },
    "papermill": {
     "duration": 0.016621,
     "end_time": "2025-01-05T09:31:39.082976",
     "exception": false,
     "start_time": "2025-01-05T09:31:39.066355",
     "status": "completed"
    },
    "tags": []
   },
   "outputs": [
    {
     "data": {
      "text/plain": [
       "'/kaggle/working'"
      ]
     },
     "execution_count": 18,
     "metadata": {},
     "output_type": "execute_result"
    }
   ],
   "source": [
    "import os\n",
    "os.getcwd()"
   ]
  },
  {
   "cell_type": "code",
   "execution_count": 19,
   "id": "8b91a047",
   "metadata": {
    "execution": {
     "iopub.execute_input": "2025-01-05T09:31:39.103789Z",
     "iopub.status.busy": "2025-01-05T09:31:39.103571Z",
     "iopub.status.idle": "2025-01-05T09:31:39.108985Z",
     "shell.execute_reply": "2025-01-05T09:31:39.108227Z"
    },
    "papermill": {
     "duration": 0.017366,
     "end_time": "2025-01-05T09:31:39.110277",
     "exception": false,
     "start_time": "2025-01-05T09:31:39.092911",
     "status": "completed"
    },
    "tags": []
   },
   "outputs": [
    {
     "data": {
      "text/plain": [
       "PosixPath('Models/01_PyTorch_Workflow_model_0.pth')"
      ]
     },
     "execution_count": 19,
     "metadata": {},
     "output_type": "execute_result"
    }
   ],
   "source": [
    "from pathlib import Path\n",
    "\n",
    "MODEL_PATH = Path('Models')\n",
    "MODEL_PATH.mkdir(parents=True, exist_ok=True)\n",
    "\n",
    "MODEL_NAME = '01_PyTorch_Workflow_model_0.pth'\n",
    "MODEL_SAVE_PATH = MODEL_PATH / MODEL_NAME\n",
    "\n",
    "MODEL_SAVE_PATH"
   ]
  },
  {
   "cell_type": "code",
   "execution_count": 20,
   "id": "8fa51a64",
   "metadata": {
    "execution": {
     "iopub.execute_input": "2025-01-05T09:31:39.132381Z",
     "iopub.status.busy": "2025-01-05T09:31:39.132152Z",
     "iopub.status.idle": "2025-01-05T09:31:39.136912Z",
     "shell.execute_reply": "2025-01-05T09:31:39.136141Z"
    },
    "papermill": {
     "duration": 0.017191,
     "end_time": "2025-01-05T09:31:39.138283",
     "exception": false,
     "start_time": "2025-01-05T09:31:39.121092",
     "status": "completed"
    },
    "tags": []
   },
   "outputs": [
    {
     "name": "stdout",
     "output_type": "stream",
     "text": [
      "Saved the model to Models/01_PyTorch_Workflow_model_0.pth\n"
     ]
    }
   ],
   "source": [
    "torch.save(obj=model_0.state_dict(), f=MODEL_SAVE_PATH)\n",
    "print(f'Saved the model to {MODEL_SAVE_PATH}')"
   ]
  },
  {
   "cell_type": "code",
   "execution_count": 21,
   "id": "561d578d",
   "metadata": {
    "execution": {
     "iopub.execute_input": "2025-01-05T09:31:39.159199Z",
     "iopub.status.busy": "2025-01-05T09:31:39.158955Z",
     "iopub.status.idle": "2025-01-05T09:31:39.303072Z",
     "shell.execute_reply": "2025-01-05T09:31:39.301977Z"
    },
    "papermill": {
     "duration": 0.156365,
     "end_time": "2025-01-05T09:31:39.304680",
     "exception": false,
     "start_time": "2025-01-05T09:31:39.148315",
     "status": "completed"
    },
    "tags": []
   },
   "outputs": [
    {
     "name": "stdout",
     "output_type": "stream",
     "text": [
      "total 4\r\n",
      "-rw-r--r-- 1 root root 1680 Jan  5 09:31 01_PyTorch_Workflow_model_0.pth\r\n"
     ]
    }
   ],
   "source": [
    "!ls -l Models"
   ]
  },
  {
   "cell_type": "markdown",
   "id": "bd97841c",
   "metadata": {
    "papermill": {
     "duration": 0.009971,
     "end_time": "2025-01-05T09:31:39.325089",
     "exception": false,
     "start_time": "2025-01-05T09:31:39.315118",
     "status": "completed"
    },
    "tags": []
   },
   "source": [
    "# Loading a PyTorch model (one saved from state_dict())"
   ]
  },
  {
   "cell_type": "code",
   "execution_count": 22,
   "id": "1177b17b",
   "metadata": {
    "execution": {
     "iopub.execute_input": "2025-01-05T09:31:39.347047Z",
     "iopub.status.busy": "2025-01-05T09:31:39.346715Z",
     "iopub.status.idle": "2025-01-05T09:31:39.361202Z",
     "shell.execute_reply": "2025-01-05T09:31:39.360290Z"
    },
    "papermill": {
     "duration": 0.027281,
     "end_time": "2025-01-05T09:31:39.362551",
     "exception": false,
     "start_time": "2025-01-05T09:31:39.335270",
     "status": "completed"
    },
    "tags": []
   },
   "outputs": [
    {
     "name": "stderr",
     "output_type": "stream",
     "text": [
      "<ipython-input-22-17843d0fe2de>:5: FutureWarning: You are using `torch.load` with `weights_only=False` (the current default value), which uses the default pickle module implicitly. It is possible to construct malicious pickle data which will execute arbitrary code during unpickling (See https://github.com/pytorch/pytorch/blob/main/SECURITY.md#untrusted-models for more details). In a future release, the default value for `weights_only` will be flipped to `True`. This limits the functions that could be executed during unpickling. Arbitrary objects will no longer be allowed to be loaded via this mode unless they are explicitly allowlisted by the user via `torch.serialization.add_safe_globals`. We recommend you start setting `weights_only=True` for any use case where you don't have full control of the loaded file. Please open an issue on GitHub for any issues related to this experimental feature.\n",
      "  loaded_model_0.load_state_dict(torch.load(f=MODEL_SAVE_PATH))\n"
     ]
    },
    {
     "data": {
      "text/plain": [
       "<All keys matched successfully>"
      ]
     },
     "execution_count": 22,
     "metadata": {},
     "output_type": "execute_result"
    }
   ],
   "source": [
    "torch.manual_seed(42)\n",
    "\n",
    "loaded_model_0 = LinearRegressionModel()\n",
    "\n",
    "loaded_model_0.load_state_dict(torch.load(f=MODEL_SAVE_PATH))"
   ]
  },
  {
   "cell_type": "code",
   "execution_count": 23,
   "id": "2a7cab52",
   "metadata": {
    "execution": {
     "iopub.execute_input": "2025-01-05T09:31:39.384295Z",
     "iopub.status.busy": "2025-01-05T09:31:39.384079Z",
     "iopub.status.idle": "2025-01-05T09:31:39.389700Z",
     "shell.execute_reply": "2025-01-05T09:31:39.389100Z"
    },
    "papermill": {
     "duration": 0.018056,
     "end_time": "2025-01-05T09:31:39.390933",
     "exception": false,
     "start_time": "2025-01-05T09:31:39.372877",
     "status": "completed"
    },
    "tags": []
   },
   "outputs": [
    {
     "data": {
      "text/plain": [
       "OrderedDict([('weights', tensor([0.5784])), ('bias', tensor([0.3513]))])"
      ]
     },
     "execution_count": 23,
     "metadata": {},
     "output_type": "execute_result"
    }
   ],
   "source": [
    "loaded_model_0.state_dict()"
   ]
  },
  {
   "cell_type": "code",
   "execution_count": 24,
   "id": "749cca7e",
   "metadata": {
    "execution": {
     "iopub.execute_input": "2025-01-05T09:31:39.412036Z",
     "iopub.status.busy": "2025-01-05T09:31:39.411806Z",
     "iopub.status.idle": "2025-01-05T09:31:39.417563Z",
     "shell.execute_reply": "2025-01-05T09:31:39.416659Z"
    },
    "papermill": {
     "duration": 0.017459,
     "end_time": "2025-01-05T09:31:39.418687",
     "exception": false,
     "start_time": "2025-01-05T09:31:39.401228",
     "status": "completed"
    },
    "tags": []
   },
   "outputs": [
    {
     "data": {
      "text/plain": [
       "tensor([[0.8141],\n",
       "        [0.8256],\n",
       "        [0.8372],\n",
       "        [0.8488],\n",
       "        [0.8603],\n",
       "        [0.8719],\n",
       "        [0.8835],\n",
       "        [0.8950],\n",
       "        [0.9066],\n",
       "        [0.9182]])"
      ]
     },
     "execution_count": 24,
     "metadata": {},
     "output_type": "execute_result"
    }
   ],
   "source": [
    "loaded_model_0.eval()\n",
    "with torch.inference_mode():\n",
    "    preds = loaded_model_0(X_test)\n",
    "\n",
    "preds"
   ]
  },
  {
   "cell_type": "code",
   "execution_count": 25,
   "id": "88401975",
   "metadata": {
    "execution": {
     "iopub.execute_input": "2025-01-05T09:31:39.440066Z",
     "iopub.status.busy": "2025-01-05T09:31:39.439858Z",
     "iopub.status.idle": "2025-01-05T09:31:39.444410Z",
     "shell.execute_reply": "2025-01-05T09:31:39.443789Z"
    },
    "papermill": {
     "duration": 0.016678,
     "end_time": "2025-01-05T09:31:39.445659",
     "exception": false,
     "start_time": "2025-01-05T09:31:39.428981",
     "status": "completed"
    },
    "tags": []
   },
   "outputs": [
    {
     "data": {
      "text/plain": [
       "tensor([[True],\n",
       "        [True],\n",
       "        [True],\n",
       "        [True],\n",
       "        [True],\n",
       "        [True],\n",
       "        [True],\n",
       "        [True],\n",
       "        [True],\n",
       "        [True]])"
      ]
     },
     "execution_count": 25,
     "metadata": {},
     "output_type": "execute_result"
    }
   ],
   "source": [
    "preds == y_preds"
   ]
  },
  {
   "cell_type": "markdown",
   "id": "c2172cad",
   "metadata": {
    "papermill": {
     "duration": 0.010096,
     "end_time": "2025-01-05T09:31:39.466286",
     "exception": false,
     "start_time": "2025-01-05T09:31:39.456190",
     "status": "completed"
    },
    "tags": []
   },
   "source": [
    "# ******** Putting it all together ********"
   ]
  },
  {
   "cell_type": "markdown",
   "id": "187f9cae",
   "metadata": {
    "papermill": {
     "duration": 0.010152,
     "end_time": "2025-01-05T09:31:39.486741",
     "exception": false,
     "start_time": "2025-01-05T09:31:39.476589",
     "status": "completed"
    },
    "tags": []
   },
   "source": [
    "# Approach using nn.Linear"
   ]
  },
  {
   "cell_type": "code",
   "execution_count": 26,
   "id": "f4b640d2",
   "metadata": {
    "execution": {
     "iopub.execute_input": "2025-01-05T09:31:39.508907Z",
     "iopub.status.busy": "2025-01-05T09:31:39.508584Z",
     "iopub.status.idle": "2025-01-05T09:31:39.513082Z",
     "shell.execute_reply": "2025-01-05T09:31:39.512227Z"
    },
    "papermill": {
     "duration": 0.017137,
     "end_time": "2025-01-05T09:31:39.514480",
     "exception": false,
     "start_time": "2025-01-05T09:31:39.497343",
     "status": "completed"
    },
    "tags": []
   },
   "outputs": [],
   "source": [
    "class LinearRegressionModelV2(nn.Module):\n",
    "    def __init__(self):\n",
    "        super().__init__()\n",
    "        # Instead of weights and biases, we use Linear Layer\n",
    "        self.linear_layer = nn.Linear(in_features=1, out_features=1)\n",
    "\n",
    "    def forward(self, x : torch.Tensor) -> torch.Tensor:\n",
    "        return self.linear_layer(x)"
   ]
  },
  {
   "cell_type": "code",
   "execution_count": 27,
   "id": "e8fd6f1c",
   "metadata": {
    "execution": {
     "iopub.execute_input": "2025-01-05T09:31:39.536043Z",
     "iopub.status.busy": "2025-01-05T09:31:39.535826Z",
     "iopub.status.idle": "2025-01-05T09:31:39.542544Z",
     "shell.execute_reply": "2025-01-05T09:31:39.541882Z"
    },
    "papermill": {
     "duration": 0.018739,
     "end_time": "2025-01-05T09:31:39.543809",
     "exception": false,
     "start_time": "2025-01-05T09:31:39.525070",
     "status": "completed"
    },
    "tags": []
   },
   "outputs": [
    {
     "data": {
      "text/plain": [
       "(LinearRegressionModelV2(\n",
       "   (linear_layer): Linear(in_features=1, out_features=1, bias=True)\n",
       " ),\n",
       " OrderedDict([('linear_layer.weight', tensor([[0.7645]])),\n",
       "              ('linear_layer.bias', tensor([0.8300]))]))"
      ]
     },
     "execution_count": 27,
     "metadata": {},
     "output_type": "execute_result"
    }
   ],
   "source": [
    "torch.manual_seed(42)\n",
    "\n",
    "model_1 = LinearRegressionModelV2()\n",
    "model_1, model_1.state_dict()"
   ]
  },
  {
   "cell_type": "code",
   "execution_count": 28,
   "id": "48b0b1a4",
   "metadata": {
    "execution": {
     "iopub.execute_input": "2025-01-05T09:31:39.565688Z",
     "iopub.status.busy": "2025-01-05T09:31:39.565397Z",
     "iopub.status.idle": "2025-01-05T09:31:39.573104Z",
     "shell.execute_reply": "2025-01-05T09:31:39.572318Z"
    },
    "papermill": {
     "duration": 0.019829,
     "end_time": "2025-01-05T09:31:39.574304",
     "exception": false,
     "start_time": "2025-01-05T09:31:39.554475",
     "status": "completed"
    },
    "tags": []
   },
   "outputs": [
    {
     "data": {
      "text/plain": [
       "(tensor([[0.0000],\n",
       "         [0.0200],\n",
       "         [0.0400],\n",
       "         [0.0600],\n",
       "         [0.0800],\n",
       "         [0.1000],\n",
       "         [0.1200],\n",
       "         [0.1400],\n",
       "         [0.1600],\n",
       "         [0.1800],\n",
       "         [0.2000],\n",
       "         [0.2200],\n",
       "         [0.2400],\n",
       "         [0.2600],\n",
       "         [0.2800],\n",
       "         [0.3000],\n",
       "         [0.3200],\n",
       "         [0.3400],\n",
       "         [0.3600],\n",
       "         [0.3800],\n",
       "         [0.4000],\n",
       "         [0.4200],\n",
       "         [0.4400],\n",
       "         [0.4600],\n",
       "         [0.4800],\n",
       "         [0.5000],\n",
       "         [0.5200],\n",
       "         [0.5400],\n",
       "         [0.5600],\n",
       "         [0.5800],\n",
       "         [0.6000],\n",
       "         [0.6200],\n",
       "         [0.6400],\n",
       "         [0.6600],\n",
       "         [0.6800],\n",
       "         [0.7000],\n",
       "         [0.7200],\n",
       "         [0.7400],\n",
       "         [0.7600],\n",
       "         [0.7800]]),\n",
       " tensor([[0.3000],\n",
       "         [0.3140],\n",
       "         [0.3280],\n",
       "         [0.3420],\n",
       "         [0.3560],\n",
       "         [0.3700],\n",
       "         [0.3840],\n",
       "         [0.3980],\n",
       "         [0.4120],\n",
       "         [0.4260],\n",
       "         [0.4400],\n",
       "         [0.4540],\n",
       "         [0.4680],\n",
       "         [0.4820],\n",
       "         [0.4960],\n",
       "         [0.5100],\n",
       "         [0.5240],\n",
       "         [0.5380],\n",
       "         [0.5520],\n",
       "         [0.5660],\n",
       "         [0.5800],\n",
       "         [0.5940],\n",
       "         [0.6080],\n",
       "         [0.6220],\n",
       "         [0.6360],\n",
       "         [0.6500],\n",
       "         [0.6640],\n",
       "         [0.6780],\n",
       "         [0.6920],\n",
       "         [0.7060],\n",
       "         [0.7200],\n",
       "         [0.7340],\n",
       "         [0.7480],\n",
       "         [0.7620],\n",
       "         [0.7760],\n",
       "         [0.7900],\n",
       "         [0.8040],\n",
       "         [0.8180],\n",
       "         [0.8320],\n",
       "         [0.8460]]),\n",
       " tensor([[0.8000],\n",
       "         [0.8200],\n",
       "         [0.8400],\n",
       "         [0.8600],\n",
       "         [0.8800],\n",
       "         [0.9000],\n",
       "         [0.9200],\n",
       "         [0.9400],\n",
       "         [0.9600],\n",
       "         [0.9800]]),\n",
       " tensor([[0.8600],\n",
       "         [0.8740],\n",
       "         [0.8880],\n",
       "         [0.9020],\n",
       "         [0.9160],\n",
       "         [0.9300],\n",
       "         [0.9440],\n",
       "         [0.9580],\n",
       "         [0.9720],\n",
       "         [0.9860]]))"
      ]
     },
     "execution_count": 28,
     "metadata": {},
     "output_type": "execute_result"
    }
   ],
   "source": [
    "X_train, y_train, X_test, y_test"
   ]
  },
  {
   "cell_type": "code",
   "execution_count": 29,
   "id": "8808db66",
   "metadata": {
    "execution": {
     "iopub.execute_input": "2025-01-05T09:31:39.596525Z",
     "iopub.status.busy": "2025-01-05T09:31:39.596270Z",
     "iopub.status.idle": "2025-01-05T09:31:39.600204Z",
     "shell.execute_reply": "2025-01-05T09:31:39.599358Z"
    },
    "papermill": {
     "duration": 0.016605,
     "end_time": "2025-01-05T09:31:39.601627",
     "exception": false,
     "start_time": "2025-01-05T09:31:39.585022",
     "status": "completed"
    },
    "tags": []
   },
   "outputs": [
    {
     "name": "stdout",
     "output_type": "stream",
     "text": [
      "cuda\n"
     ]
    }
   ],
   "source": [
    "# Setting up device agnostic code\n",
    "device = 'cuda' if torch.cuda.is_available() else 'cpu'\n",
    "print(device)"
   ]
  },
  {
   "cell_type": "code",
   "execution_count": 30,
   "id": "f5590e0c",
   "metadata": {
    "execution": {
     "iopub.execute_input": "2025-01-05T09:31:39.623885Z",
     "iopub.status.busy": "2025-01-05T09:31:39.623682Z",
     "iopub.status.idle": "2025-01-05T09:31:39.798218Z",
     "shell.execute_reply": "2025-01-05T09:31:39.797394Z"
    },
    "papermill": {
     "duration": 0.187024,
     "end_time": "2025-01-05T09:31:39.799520",
     "exception": false,
     "start_time": "2025-01-05T09:31:39.612496",
     "status": "completed"
    },
    "tags": []
   },
   "outputs": [
    {
     "data": {
      "text/plain": [
       "LinearRegressionModelV2(\n",
       "  (linear_layer): Linear(in_features=1, out_features=1, bias=True)\n",
       ")"
      ]
     },
     "execution_count": 30,
     "metadata": {},
     "output_type": "execute_result"
    }
   ],
   "source": [
    "model_1.to(device)"
   ]
  },
  {
   "cell_type": "code",
   "execution_count": 31,
   "id": "094364df",
   "metadata": {
    "execution": {
     "iopub.execute_input": "2025-01-05T09:31:39.822375Z",
     "iopub.status.busy": "2025-01-05T09:31:39.822153Z",
     "iopub.status.idle": "2025-01-05T09:31:39.826591Z",
     "shell.execute_reply": "2025-01-05T09:31:39.825782Z"
    },
    "papermill": {
     "duration": 0.016932,
     "end_time": "2025-01-05T09:31:39.827730",
     "exception": false,
     "start_time": "2025-01-05T09:31:39.810798",
     "status": "completed"
    },
    "tags": []
   },
   "outputs": [
    {
     "data": {
      "text/plain": [
       "device(type='cuda', index=0)"
      ]
     },
     "execution_count": 31,
     "metadata": {},
     "output_type": "execute_result"
    }
   ],
   "source": [
    "next(model_1.parameters()).device"
   ]
  },
  {
   "cell_type": "code",
   "execution_count": 32,
   "id": "d8753738",
   "metadata": {
    "execution": {
     "iopub.execute_input": "2025-01-05T09:31:39.849981Z",
     "iopub.status.busy": "2025-01-05T09:31:39.849733Z",
     "iopub.status.idle": "2025-01-05T09:31:39.853218Z",
     "shell.execute_reply": "2025-01-05T09:31:39.852588Z"
    },
    "papermill": {
     "duration": 0.015907,
     "end_time": "2025-01-05T09:31:39.854316",
     "exception": false,
     "start_time": "2025-01-05T09:31:39.838409",
     "status": "completed"
    },
    "tags": []
   },
   "outputs": [],
   "source": [
    "loss_fn = nn.L1Loss()\n",
    "\n",
    "optimizer = optim.SGD(model_1.parameters(), lr=0.01)\n",
    "\n",
    "epochs = 100"
   ]
  },
  {
   "cell_type": "code",
   "execution_count": 33,
   "id": "29bed00b",
   "metadata": {
    "execution": {
     "iopub.execute_input": "2025-01-05T09:31:39.876611Z",
     "iopub.status.busy": "2025-01-05T09:31:39.876362Z",
     "iopub.status.idle": "2025-01-05T09:31:40.176594Z",
     "shell.execute_reply": "2025-01-05T09:31:40.175505Z"
    },
    "papermill": {
     "duration": 0.312916,
     "end_time": "2025-01-05T09:31:40.178009",
     "exception": false,
     "start_time": "2025-01-05T09:31:39.865093",
     "status": "completed"
    },
    "tags": []
   },
   "outputs": [
    {
     "name": "stdout",
     "output_type": "stream",
     "text": [
      "[Parameter containing:\n",
      "tensor([[0.7645]], device='cuda:0', requires_grad=True), Parameter containing:\n",
      "tensor([0.8300], device='cuda:0', requires_grad=True)]\n"
     ]
    }
   ],
   "source": [
    "print(list(model_1.parameters()))"
   ]
  },
  {
   "cell_type": "code",
   "execution_count": 34,
   "id": "d0e6da5b",
   "metadata": {
    "execution": {
     "iopub.execute_input": "2025-01-05T09:31:40.201202Z",
     "iopub.status.busy": "2025-01-05T09:31:40.200923Z",
     "iopub.status.idle": "2025-01-05T09:31:40.214481Z",
     "shell.execute_reply": "2025-01-05T09:31:40.213748Z"
    },
    "papermill": {
     "duration": 0.026448,
     "end_time": "2025-01-05T09:31:40.215797",
     "exception": false,
     "start_time": "2025-01-05T09:31:40.189349",
     "status": "completed"
    },
    "tags": []
   },
   "outputs": [
    {
     "data": {
      "text/plain": [
       "OrderedDict([('linear_layer.weight', tensor([[0.7645]], device='cuda:0')),\n",
       "             ('linear_layer.bias', tensor([0.8300], device='cuda:0'))])"
      ]
     },
     "execution_count": 34,
     "metadata": {},
     "output_type": "execute_result"
    }
   ],
   "source": [
    "model_1.state_dict()"
   ]
  },
  {
   "cell_type": "code",
   "execution_count": 35,
   "id": "f49f3c94",
   "metadata": {
    "execution": {
     "iopub.execute_input": "2025-01-05T09:31:40.238969Z",
     "iopub.status.busy": "2025-01-05T09:31:40.238708Z",
     "iopub.status.idle": "2025-01-05T09:31:40.244948Z",
     "shell.execute_reply": "2025-01-05T09:31:40.244136Z"
    },
    "papermill": {
     "duration": 0.01904,
     "end_time": "2025-01-05T09:31:40.246237",
     "exception": false,
     "start_time": "2025-01-05T09:31:40.227197",
     "status": "completed"
    },
    "tags": []
   },
   "outputs": [
    {
     "data": {
      "text/plain": [
       "[{'params': [Parameter containing:\n",
       "   tensor([[0.7645]], device='cuda:0', requires_grad=True),\n",
       "   Parameter containing:\n",
       "   tensor([0.8300], device='cuda:0', requires_grad=True)],\n",
       "  'lr': 0.01,\n",
       "  'momentum': 0,\n",
       "  'dampening': 0,\n",
       "  'weight_decay': 0,\n",
       "  'nesterov': False,\n",
       "  'maximize': False,\n",
       "  'foreach': None,\n",
       "  'differentiable': False,\n",
       "  'fused': None}]"
      ]
     },
     "execution_count": 35,
     "metadata": {},
     "output_type": "execute_result"
    }
   ],
   "source": [
    "optimizer.param_groups"
   ]
  },
  {
   "cell_type": "code",
   "execution_count": 36,
   "id": "b20770fe",
   "metadata": {
    "execution": {
     "iopub.execute_input": "2025-01-05T09:31:40.269021Z",
     "iopub.status.busy": "2025-01-05T09:31:40.268807Z",
     "iopub.status.idle": "2025-01-05T09:31:40.273126Z",
     "shell.execute_reply": "2025-01-05T09:31:40.272488Z"
    },
    "papermill": {
     "duration": 0.016967,
     "end_time": "2025-01-05T09:31:40.274288",
     "exception": false,
     "start_time": "2025-01-05T09:31:40.257321",
     "status": "completed"
    },
    "tags": []
   },
   "outputs": [
    {
     "data": {
      "text/plain": [
       "{'state': {},\n",
       " 'param_groups': [{'lr': 0.01,\n",
       "   'momentum': 0,\n",
       "   'dampening': 0,\n",
       "   'weight_decay': 0,\n",
       "   'nesterov': False,\n",
       "   'maximize': False,\n",
       "   'foreach': None,\n",
       "   'differentiable': False,\n",
       "   'fused': None,\n",
       "   'params': [0, 1]}]}"
      ]
     },
     "execution_count": 36,
     "metadata": {},
     "output_type": "execute_result"
    }
   ],
   "source": [
    "optimizer.state_dict()"
   ]
  },
  {
   "cell_type": "code",
   "execution_count": 37,
   "id": "ee0e100c",
   "metadata": {
    "execution": {
     "iopub.execute_input": "2025-01-05T09:31:40.296884Z",
     "iopub.status.busy": "2025-01-05T09:31:40.296673Z",
     "iopub.status.idle": "2025-01-05T09:31:40.630372Z",
     "shell.execute_reply": "2025-01-05T09:31:40.629332Z"
    },
    "papermill": {
     "duration": 0.346739,
     "end_time": "2025-01-05T09:31:40.631985",
     "exception": false,
     "start_time": "2025-01-05T09:31:40.285246",
     "status": "completed"
    },
    "tags": []
   },
   "outputs": [
    {
     "name": "stdout",
     "output_type": "stream",
     "text": [
      "Epoch : 1 | Loss : 0.5739762187004089\n",
      "Epoch : 6 | Loss : 0.5066213011741638\n",
      "Epoch : 11 | Loss : 0.4392664134502411\n",
      "Epoch : 16 | Loss : 0.37191149592399597\n",
      "Epoch : 21 | Loss : 0.30455657839775085\n",
      "Epoch : 26 | Loss : 0.23720164597034454\n",
      "Epoch : 31 | Loss : 0.16984669864177704\n",
      "Epoch : 36 | Loss : 0.1024918332695961\n",
      "Epoch : 41 | Loss : 0.03513690456748009\n",
      "Epoch : 46 | Loss : 0.029703443869948387\n",
      "Epoch : 51 | Loss : 0.04784907028079033\n",
      "Epoch : 56 | Loss : 0.048565614968538284\n",
      "Epoch : 61 | Loss : 0.045803118497133255\n",
      "Epoch : 66 | Loss : 0.04166685417294502\n",
      "Epoch : 71 | Loss : 0.037530567497015\n",
      "Epoch : 76 | Loss : 0.034081198275089264\n",
      "Epoch : 81 | Loss : 0.02994490973651409\n",
      "Epoch : 86 | Loss : 0.025808637961745262\n",
      "Epoch : 91 | Loss : 0.02167237363755703\n",
      "Epoch : 96 | Loss : 0.017536098137497902\n"
     ]
    }
   ],
   "source": [
    "epoch_count = []\n",
    "train_loss = []\n",
    "test_loss = []\n",
    "\n",
    "for epoch in range(epochs):\n",
    "    model_1.train()\n",
    "    X_train = X_train.to(device)\n",
    "    X_test = X_test.to(device)\n",
    "    y_train = y_train.to(device)\n",
    "    y_test = y_test.to(device)\n",
    "    \n",
    "\n",
    "    y_preds = model_1(X_train)\n",
    "    loss = loss_fn(y_train, y_preds)\n",
    "    optimizer.zero_grad()\n",
    "    loss.backward()\n",
    "    optimizer.step()\n",
    "    \n",
    "    epoch_count.append(epoch)\n",
    "    train_loss.append(loss.detach().item())\n",
    "\n",
    "    \n",
    "    model_1.eval()\n",
    "    with torch.inference_mode():\n",
    "        y_preds = model_1(X_test)\n",
    "        loss = loss_fn(y_test, y_preds)\n",
    "        test_loss.append(loss.detach().item())\n",
    "        if epoch%5==0:\n",
    "            print(f\"Epoch : {epoch+1} | Loss : {loss}\")"
   ]
  },
  {
   "cell_type": "code",
   "execution_count": 38,
   "id": "5eed8dbd",
   "metadata": {
    "execution": {
     "iopub.execute_input": "2025-01-05T09:31:40.655506Z",
     "iopub.status.busy": "2025-01-05T09:31:40.655228Z",
     "iopub.status.idle": "2025-01-05T09:31:40.660164Z",
     "shell.execute_reply": "2025-01-05T09:31:40.659369Z"
    },
    "papermill": {
     "duration": 0.017783,
     "end_time": "2025-01-05T09:31:40.661351",
     "exception": false,
     "start_time": "2025-01-05T09:31:40.643568",
     "status": "completed"
    },
    "tags": []
   },
   "outputs": [
    {
     "data": {
      "text/plain": [
       "3"
      ]
     },
     "execution_count": 38,
     "metadata": {},
     "output_type": "execute_result"
    }
   ],
   "source": [
    "torch.tensor(3).detach().item()"
   ]
  },
  {
   "cell_type": "code",
   "execution_count": 39,
   "id": "11e14a17",
   "metadata": {
    "execution": {
     "iopub.execute_input": "2025-01-05T09:31:40.684596Z",
     "iopub.status.busy": "2025-01-05T09:31:40.684343Z",
     "iopub.status.idle": "2025-01-05T09:31:40.924286Z",
     "shell.execute_reply": "2025-01-05T09:31:40.923489Z"
    },
    "papermill": {
     "duration": 0.253014,
     "end_time": "2025-01-05T09:31:40.925553",
     "exception": false,
     "start_time": "2025-01-05T09:31:40.672539",
     "status": "completed"
    },
    "tags": []
   },
   "outputs": [
    {
     "data": {
      "image/png": "[encoded data removed]",
      "text/plain": [
       "<Figure size 640x480 with 1 Axes>"
      ]
     },
     "metadata": {},
     "output_type": "display_data"
    }
   ],
   "source": [
    "plt.plot(epoch_count, train_loss, label='Training Loss', marker='.')\n",
    "plt.plot(epoch_count, test_loss, label='Testing Loss', marker='.')\n",
    "plt.legend(loc='best');"
   ]
  },
  {
   "cell_type": "code",
   "execution_count": 40,
   "id": "60ddc465",
   "metadata": {
    "execution": {
     "iopub.execute_input": "2025-01-05T09:31:40.949965Z",
     "iopub.status.busy": "2025-01-05T09:31:40.949732Z",
     "iopub.status.idle": "2025-01-05T09:31:40.954756Z",
     "shell.execute_reply": "2025-01-05T09:31:40.953937Z"
    },
    "papermill": {
     "duration": 0.018433,
     "end_time": "2025-01-05T09:31:40.955957",
     "exception": false,
     "start_time": "2025-01-05T09:31:40.937524",
     "status": "completed"
    },
    "tags": []
   },
   "outputs": [
    {
     "data": {
      "text/plain": [
       "([0, 1, 2, 3, 4],\n",
       " [0.5551779866218567,\n",
       "  0.5436570048332214,\n",
       "  0.5321359634399414,\n",
       "  0.5206149816513062,\n",
       "  0.5090939998626709],\n",
       " [0.5739762187004089,\n",
       "  0.560505211353302,\n",
       "  0.5470342636108398,\n",
       "  0.5335632562637329,\n",
       "  0.5200923085212708])"
      ]
     },
     "execution_count": 40,
     "metadata": {},
     "output_type": "execute_result"
    }
   ],
   "source": [
    "epoch_count[:5], train_loss[:5], test_loss[:5]"
   ]
  },
  {
   "cell_type": "code",
   "execution_count": 41,
   "id": "632f98e1",
   "metadata": {
    "execution": {
     "iopub.execute_input": "2025-01-05T09:31:40.980168Z",
     "iopub.status.busy": "2025-01-05T09:31:40.979954Z",
     "iopub.status.idle": "2025-01-05T09:31:40.986106Z",
     "shell.execute_reply": "2025-01-05T09:31:40.985480Z"
    },
    "papermill": {
     "duration": 0.019515,
     "end_time": "2025-01-05T09:31:40.987328",
     "exception": false,
     "start_time": "2025-01-05T09:31:40.967813",
     "status": "completed"
    },
    "tags": []
   },
   "outputs": [
    {
     "data": {
      "text/plain": [
       "OrderedDict([('linear_layer.weight', tensor([[0.6691]], device='cuda:0')),\n",
       "             ('linear_layer.bias', tensor([0.3130], device='cuda:0'))])"
      ]
     },
     "execution_count": 41,
     "metadata": {},
     "output_type": "execute_result"
    }
   ],
   "source": [
    "model_1.state_dict()"
   ]
  },
  {
   "cell_type": "code",
   "execution_count": 42,
   "id": "dbd50e5e",
   "metadata": {
    "execution": {
     "iopub.execute_input": "2025-01-05T09:31:41.012025Z",
     "iopub.status.busy": "2025-01-05T09:31:41.011816Z",
     "iopub.status.idle": "2025-01-05T09:31:41.017685Z",
     "shell.execute_reply": "2025-01-05T09:31:41.016927Z"
    },
    "papermill": {
     "duration": 0.019513,
     "end_time": "2025-01-05T09:31:41.018958",
     "exception": false,
     "start_time": "2025-01-05T09:31:40.999445",
     "status": "completed"
    },
    "tags": []
   },
   "outputs": [
    {
     "data": {
      "text/plain": [
       "[Parameter containing:\n",
       " tensor([[0.6691]], device='cuda:0', requires_grad=True),\n",
       " Parameter containing:\n",
       " tensor([0.3130], device='cuda:0', requires_grad=True)]"
      ]
     },
     "execution_count": 42,
     "metadata": {},
     "output_type": "execute_result"
    }
   ],
   "source": [
    "list(model_1.parameters())"
   ]
  },
  {
   "cell_type": "code",
   "execution_count": 43,
   "id": "7a921a42",
   "metadata": {
    "execution": {
     "iopub.execute_input": "2025-01-05T09:31:41.043703Z",
     "iopub.status.busy": "2025-01-05T09:31:41.043490Z",
     "iopub.status.idle": "2025-01-05T09:31:41.050487Z",
     "shell.execute_reply": "2025-01-05T09:31:41.049820Z"
    },
    "papermill": {
     "duration": 0.02061,
     "end_time": "2025-01-05T09:31:41.051680",
     "exception": false,
     "start_time": "2025-01-05T09:31:41.031070",
     "status": "completed"
    },
    "tags": []
   },
   "outputs": [
    {
     "data": {
      "text/plain": [
       "(tensor([[0.8483],\n",
       "         [0.8617],\n",
       "         [0.8750],\n",
       "         [0.8884],\n",
       "         [0.9018],\n",
       "         [0.9152],\n",
       "         [0.9286],\n",
       "         [0.9420],\n",
       "         [0.9553],\n",
       "         [0.9687]], device='cuda:0'),\n",
       " tensor([[0.8600],\n",
       "         [0.8740],\n",
       "         [0.8880],\n",
       "         [0.9020],\n",
       "         [0.9160],\n",
       "         [0.9300],\n",
       "         [0.9440],\n",
       "         [0.9580],\n",
       "         [0.9720],\n",
       "         [0.9860]], device='cuda:0'))"
      ]
     },
     "execution_count": 43,
     "metadata": {},
     "output_type": "execute_result"
    }
   ],
   "source": [
    "# Making predictions\n",
    "\n",
    "model_1.eval()\n",
    "with torch.inference_mode():\n",
    "    y_preds = model_1(X_test)\n",
    "\n",
    "y_preds, y_test"
   ]
  },
  {
   "cell_type": "code",
   "execution_count": 44,
   "id": "bffed38b",
   "metadata": {
    "execution": {
     "iopub.execute_input": "2025-01-05T09:31:41.078049Z",
     "iopub.status.busy": "2025-01-05T09:31:41.077846Z",
     "iopub.status.idle": "2025-01-05T09:31:41.082842Z",
     "shell.execute_reply": "2025-01-05T09:31:41.082106Z"
    },
    "papermill": {
     "duration": 0.020207,
     "end_time": "2025-01-05T09:31:41.084017",
     "exception": false,
     "start_time": "2025-01-05T09:31:41.063810",
     "status": "completed"
    },
    "tags": []
   },
   "outputs": [
    {
     "name": "stdout",
     "output_type": "stream",
     "text": [
      "Model saved successfully to models/01_PyTorch_NN_Implementation.pth\n"
     ]
    }
   ],
   "source": [
    "from pathlib import Path\n",
    "\n",
    "MODEL_PATH = Path('models')\n",
    "MODEL_PATH.mkdir(parents=True, exist_ok=True)\n",
    "\n",
    "MODEL_NAME = '01_PyTorch_NN_Implementation.pth'\n",
    "MODEL_SAVE_PATH = MODEL_PATH / MODEL_NAME\n",
    "\n",
    "torch.save(obj=model_1.state_dict(), f=MODEL_SAVE_PATH)\n",
    "\n",
    "print(f'Model saved successfully to {MODEL_SAVE_PATH}')"
   ]
  },
  {
   "cell_type": "code",
   "execution_count": 45,
   "id": "6f9ad1ac",
   "metadata": {
    "execution": {
     "iopub.execute_input": "2025-01-05T09:31:41.109045Z",
     "iopub.status.busy": "2025-01-05T09:31:41.108841Z",
     "iopub.status.idle": "2025-01-05T09:31:41.115569Z",
     "shell.execute_reply": "2025-01-05T09:31:41.114812Z"
    },
    "papermill": {
     "duration": 0.020679,
     "end_time": "2025-01-05T09:31:41.116863",
     "exception": false,
     "start_time": "2025-01-05T09:31:41.096184",
     "status": "completed"
    },
    "tags": []
   },
   "outputs": [
    {
     "name": "stderr",
     "output_type": "stream",
     "text": [
      "<ipython-input-45-f29338b4a2f8>:4: FutureWarning: You are using `torch.load` with `weights_only=False` (the current default value), which uses the default pickle module implicitly. It is possible to construct malicious pickle data which will execute arbitrary code during unpickling (See https://github.com/pytorch/pytorch/blob/main/SECURITY.md#untrusted-models for more details). In a future release, the default value for `weights_only` will be flipped to `True`. This limits the functions that could be executed during unpickling. Arbitrary objects will no longer be allowed to be loaded via this mode unless they are explicitly allowlisted by the user via `torch.serialization.add_safe_globals`. We recommend you start setting `weights_only=True` for any use case where you don't have full control of the loaded file. Please open an issue on GitHub for any issues related to this experimental feature.\n",
      "  loaded_model_1.load_state_dict(torch.load(MODEL_SAVE_PATH))\n"
     ]
    },
    {
     "data": {
      "text/plain": [
       "<All keys matched successfully>"
      ]
     },
     "execution_count": 45,
     "metadata": {},
     "output_type": "execute_result"
    }
   ],
   "source": [
    "# Loading the same saved model\n",
    "loaded_model_1 = LinearRegressionModelV2()\n",
    "\n",
    "loaded_model_1.load_state_dict(torch.load(MODEL_SAVE_PATH))"
   ]
  },
  {
   "cell_type": "code",
   "execution_count": 46,
   "id": "c897f34c",
   "metadata": {
    "execution": {
     "iopub.execute_input": "2025-01-05T09:31:41.142503Z",
     "iopub.status.busy": "2025-01-05T09:31:41.142227Z",
     "iopub.status.idle": "2025-01-05T09:31:41.146985Z",
     "shell.execute_reply": "2025-01-05T09:31:41.146183Z"
    },
    "papermill": {
     "duration": 0.018705,
     "end_time": "2025-01-05T09:31:41.148157",
     "exception": false,
     "start_time": "2025-01-05T09:31:41.129452",
     "status": "completed"
    },
    "tags": []
   },
   "outputs": [
    {
     "data": {
      "text/plain": [
       "LinearRegressionModelV2(\n",
       "  (linear_layer): Linear(in_features=1, out_features=1, bias=True)\n",
       ")"
      ]
     },
     "execution_count": 46,
     "metadata": {},
     "output_type": "execute_result"
    }
   ],
   "source": [
    "loaded_model_1.to(device)"
   ]
  },
  {
   "cell_type": "code",
   "execution_count": 47,
   "id": "fa3f9d3c",
   "metadata": {
    "execution": {
     "iopub.execute_input": "2025-01-05T09:31:41.173353Z",
     "iopub.status.busy": "2025-01-05T09:31:41.173119Z",
     "iopub.status.idle": "2025-01-05T09:31:41.179206Z",
     "shell.execute_reply": "2025-01-05T09:31:41.178562Z"
    },
    "papermill": {
     "duration": 0.019823,
     "end_time": "2025-01-05T09:31:41.180307",
     "exception": false,
     "start_time": "2025-01-05T09:31:41.160484",
     "status": "completed"
    },
    "tags": []
   },
   "outputs": [
    {
     "data": {
      "text/plain": [
       "OrderedDict([('linear_layer.weight', tensor([[0.6691]], device='cuda:0')),\n",
       "             ('linear_layer.bias', tensor([0.3130], device='cuda:0'))])"
      ]
     },
     "execution_count": 47,
     "metadata": {},
     "output_type": "execute_result"
    }
   ],
   "source": [
    "loaded_model_1.state_dict()"
   ]
  },
  {
   "cell_type": "code",
   "execution_count": 48,
   "id": "a58d05de",
   "metadata": {
    "execution": {
     "iopub.execute_input": "2025-01-05T09:31:41.205733Z",
     "iopub.status.busy": "2025-01-05T09:31:41.205519Z",
     "iopub.status.idle": "2025-01-05T09:31:41.211193Z",
     "shell.execute_reply": "2025-01-05T09:31:41.210377Z"
    },
    "papermill": {
     "duration": 0.019797,
     "end_time": "2025-01-05T09:31:41.212447",
     "exception": false,
     "start_time": "2025-01-05T09:31:41.192650",
     "status": "completed"
    },
    "tags": []
   },
   "outputs": [
    {
     "data": {
      "text/plain": [
       "tensor([[True],\n",
       "        [True],\n",
       "        [True],\n",
       "        [True],\n",
       "        [True],\n",
       "        [True],\n",
       "        [True],\n",
       "        [True],\n",
       "        [True],\n",
       "        [True]], device='cuda:0')"
      ]
     },
     "execution_count": 48,
     "metadata": {},
     "output_type": "execute_result"
    }
   ],
   "source": [
    "loaded_model_1.eval()\n",
    "with torch.inference_mode():\n",
    "    y_pred = loaded_model_1(X_test)\n",
    "\n",
    "y_pred == y_preds"
   ]
  },
  {
   "cell_type": "code",
   "execution_count": null,
   "id": "49cc8506",
   "metadata": {
    "papermill": {
     "duration": 0.012321,
     "end_time": "2025-01-05T09:31:41.237362",
     "exception": false,
     "start_time": "2025-01-05T09:31:41.225041",
     "status": "completed"
    },
    "tags": []
   },
   "outputs": [],
   "source": []
  }
 ],
 "metadata": {
  "kaggle": {
   "accelerator": "gpu",
   "dataSources": [],
   "dockerImageVersionId": 30822,
   "isGpuEnabled": true,
   "isInternetEnabled": true,
   "language": "python",
   "sourceType": "notebook"
  },
  "kernelspec": {
   "display_name": "Python 3",
   "language": "python",
   "name": "python3"
  },
  "language_info": {
   "codemirror_mode": {
    "name": "ipython",
    "version": 3
   },
   "file_extension": ".py",
   "mimetype": "text/x-python",
   "name": "python",
   "nbconvert_exporter": "python",
   "pygments_lexer": "ipython3",
   "version": "3.10.12"
  },
  "papermill": {
   "default_parameters": {},
   "duration": 12.968952,
   "end_time": "2025-01-05T09:31:42.670627",
   "environment_variables": {},
   "exception": null,
   "input_path": "__notebook__.ipynb",
   "output_path": "__notebook__.ipynb",
   "parameters": {},
   "start_time": "2025-01-05T09:31:29.701675",
   "version": "2.6.0"
  }
 },
 "nbformat": 4,
 "nbformat_minor": 5
}
